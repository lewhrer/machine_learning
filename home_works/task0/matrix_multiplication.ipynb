{
 "cells": [
  {
   "cell_type": "code",
   "execution_count": 1,
   "metadata": {},
   "outputs": [],
   "source": [
    "import time\n",
    "import numpy as np"
   ]
  },
  {
   "cell_type": "code",
   "execution_count": 2,
   "metadata": {},
   "outputs": [
    {
     "name": "stdout",
     "output_type": "stream",
     "text": [
      "--- 2.0120303630828857 seconds ---\n",
      "--- 0.0018880367279052734 seconds ---\n",
      "[[15  1  5 ...  9 16 15]\n",
      " [ 5 17 18 ...  4 16  1]\n",
      " [17 16 10 ...  2  8  9]\n",
      " ...\n",
      " [ 2  5 11 ...  2  3 18]\n",
      " [14  7  6 ...  4  2 17]\n",
      " [ 5 11  8 ... 17  5  0]]\n",
      "[[ 9 10 16 ...  2 17 11]\n",
      " [19  8 13 ...  1  1  0]\n",
      " [ 4 18  8 ...  6 17  2]\n",
      " ...\n",
      " [ 7  8 13 ... 11  7  7]\n",
      " [ 9 10 12 ...  6  2 18]\n",
      " [ 5 15  7 ...  6 10  8]]\n",
      "[[7374. 9280. 8681. ... 8732. 8719. 7405.]\n",
      " [8209. 9605. 8721. ... 9016. 8504. 7276.]\n",
      " [7568. 8555. 8091. ... 7982. 8600. 6818.]\n",
      " ...\n",
      " [8027. 8750. 8799. ... 9930. 8845. 8226.]\n",
      " [8754. 9304. 9624. ... 9506. 9288. 7655.]\n",
      " [7927. 8257. 8577. ... 8532. 8221. 7566.]]\n"
     ]
    }
   ],
   "source": [
    "G = np.random.randint(20, size=(100,100))\n",
    "H = np.random.randint(20, size=(100,100))\n",
    "a = len(G)\n",
    "d = int(a/2)\n",
    "row_factor=np.zeros(a)\n",
    "column_factor = np.zeros(a)\n",
    "R = np.zeros((a,a))\n",
    "my_start_time = time.time()\n",
    "#Custom multiplication\n",
    "for i in range(a):\n",
    "    row_factor[i] = G[i][0] * G[i][1]\n",
    "    for j in range(1, d):\n",
    "        row_factor[i] += G[i][2*j - 1] * G[i][2*j]\n",
    "for i in range(a):\n",
    "    column_factor[i] = H[0][i] * H[1][i]\n",
    "    for j in range(1,d):\n",
    "        column_factor[i] += H[2*j - 1][i] * H[2*j][i]\n",
    "for i in range(a):\n",
    "    for j in range(a):\n",
    "        R[i][j] = -(row_factor[i] + column_factor[j])\n",
    "        for k in range(d):\n",
    "            R[i][j] += (G[i][2*k-1]+H[2*k][j])*(G[i][2*k] + H[2*k-1][j])            \n",
    "if (2 * (a/2)!= a):\n",
    "    for i in range(a):\n",
    "        for j in range(a):\n",
    "            R[i][j] += G[i][b] * H[b][j]\n",
    "print(\"--- %s seconds ---\" % (time.time() - my_start_time))\n",
    "dot_start_time = time.time()\n",
    "#numpy multiplication\n",
    "RR = np.dot(G,H)\n",
    "print(\"--- %s seconds ---\" % (time.time() - dot_start_time))\n",
    "\n",
    "print(G)\n",
    "print(H)\n",
    "print(R)"
   ]
  },
  {
   "cell_type": "code",
   "execution_count": null,
   "metadata": {},
   "outputs": [],
   "source": []
  }
 ],
 "metadata": {
  "kernelspec": {
   "display_name": "Python 3",
   "language": "python",
   "name": "python3"
  },
  "language_info": {
   "codemirror_mode": {
    "name": "ipython",
    "version": 3
   },
   "file_extension": ".py",
   "mimetype": "text/x-python",
   "name": "python",
   "nbconvert_exporter": "python",
   "pygments_lexer": "ipython3",
   "version": "3.8.5"
  }
 },
 "nbformat": 4,
 "nbformat_minor": 4
}
